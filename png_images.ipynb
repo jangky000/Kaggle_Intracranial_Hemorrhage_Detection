{
 "cells": [
  {
   "cell_type": "code",
   "execution_count": 1,
   "metadata": {},
   "outputs": [],
   "source": [
    "import pandas as pd\n",
    "from matplotlib import pyplot as plt"
   ]
  },
  {
   "cell_type": "code",
   "execution_count": 2,
   "metadata": {},
   "outputs": [
    {
     "data": {
      "text/html": [
       "<div>\n",
       "<style scoped>\n",
       "    .dataframe tbody tr th:only-of-type {\n",
       "        vertical-align: middle;\n",
       "    }\n",
       "\n",
       "    .dataframe tbody tr th {\n",
       "        vertical-align: top;\n",
       "    }\n",
       "\n",
       "    .dataframe thead th {\n",
       "        text-align: right;\n",
       "    }\n",
       "</style>\n",
       "<table border=\"1\" class=\"dataframe\">\n",
       "  <thead>\n",
       "    <tr style=\"text-align: right;\">\n",
       "      <th>Diagnosis</th>\n",
       "      <th>Image</th>\n",
       "      <th>any</th>\n",
       "      <th>epidural</th>\n",
       "      <th>intraparenchymal</th>\n",
       "      <th>intraventricular</th>\n",
       "      <th>subarachnoid</th>\n",
       "      <th>subdural</th>\n",
       "    </tr>\n",
       "  </thead>\n",
       "  <tbody>\n",
       "    <tr>\n",
       "      <td>0</td>\n",
       "      <td>ID_000039fa0</td>\n",
       "      <td>0</td>\n",
       "      <td>0</td>\n",
       "      <td>0</td>\n",
       "      <td>0</td>\n",
       "      <td>0</td>\n",
       "      <td>0</td>\n",
       "    </tr>\n",
       "    <tr>\n",
       "      <td>1</td>\n",
       "      <td>ID_00005679d</td>\n",
       "      <td>0</td>\n",
       "      <td>0</td>\n",
       "      <td>0</td>\n",
       "      <td>0</td>\n",
       "      <td>0</td>\n",
       "      <td>0</td>\n",
       "    </tr>\n",
       "    <tr>\n",
       "      <td>2</td>\n",
       "      <td>ID_00008ce3c</td>\n",
       "      <td>0</td>\n",
       "      <td>0</td>\n",
       "      <td>0</td>\n",
       "      <td>0</td>\n",
       "      <td>0</td>\n",
       "      <td>0</td>\n",
       "    </tr>\n",
       "    <tr>\n",
       "      <td>3</td>\n",
       "      <td>ID_0000950d7</td>\n",
       "      <td>0</td>\n",
       "      <td>0</td>\n",
       "      <td>0</td>\n",
       "      <td>0</td>\n",
       "      <td>0</td>\n",
       "      <td>0</td>\n",
       "    </tr>\n",
       "    <tr>\n",
       "      <td>4</td>\n",
       "      <td>ID_0000aee4b</td>\n",
       "      <td>0</td>\n",
       "      <td>0</td>\n",
       "      <td>0</td>\n",
       "      <td>0</td>\n",
       "      <td>0</td>\n",
       "      <td>0</td>\n",
       "    </tr>\n",
       "  </tbody>\n",
       "</table>\n",
       "</div>"
      ],
      "text/plain": [
       "Diagnosis         Image  any  epidural  intraparenchymal  intraventricular  \\\n",
       "0          ID_000039fa0    0         0                 0                 0   \n",
       "1          ID_00005679d    0         0                 0                 0   \n",
       "2          ID_00008ce3c    0         0                 0                 0   \n",
       "3          ID_0000950d7    0         0                 0                 0   \n",
       "4          ID_0000aee4b    0         0                 0                 0   \n",
       "\n",
       "Diagnosis  subarachnoid  subdural  \n",
       "0                     0         0  \n",
       "1                     0         0  \n",
       "2                     0         0  \n",
       "3                     0         0  \n",
       "4                     0         0  "
      ]
     },
     "execution_count": 2,
     "metadata": {},
     "output_type": "execute_result"
    }
   ],
   "source": [
    "train_df = pd.read_csv(\"stage_1_train.csv\").drop_duplicates()\n",
    "train_df['Image'] = train_df['ID'].str.slice(stop=12)\n",
    "train_df['Diagnosis'] = train_df['ID'].str.slice(start=13)\n",
    "train_labels = train_df.pivot(index=\"Image\", columns=\"Diagnosis\", values=\"Label\")\n",
    "train_labels.reset_index(inplace = True)\n",
    "train_labels.head()"
   ]
  },
  {
   "cell_type": "code",
   "execution_count": 3,
   "metadata": {},
   "outputs": [
    {
     "data": {
      "text/plain": [
       "(674258, 7)"
      ]
     },
     "execution_count": 3,
     "metadata": {},
     "output_type": "execute_result"
    }
   ],
   "source": [
    "train_labels.shape"
   ]
  },
  {
   "cell_type": "code",
   "execution_count": 18,
   "metadata": {},
   "outputs": [],
   "source": [
    "train_diag_vals = train_labels[train_labels.columns[1:]]"
   ]
  },
  {
   "cell_type": "code",
   "execution_count": 24,
   "metadata": {
    "scrolled": true
   },
   "outputs": [
    {
     "data": {
      "text/plain": [
       "Diagnosis\n",
       "any                 97103\n",
       "epidural             2761\n",
       "intraparenchymal    32564\n",
       "intraventricular    23766\n",
       "subarachnoid        32122\n",
       "subdural            42496\n",
       "dtype: int64"
      ]
     },
     "execution_count": 24,
     "metadata": {},
     "output_type": "execute_result"
    }
   ],
   "source": [
    "train_diag_cnt = train_diag_vals.sum(axis = 0)\n",
    "train_diag_cnt"
   ]
  },
  {
   "cell_type": "code",
   "execution_count": 25,
   "metadata": {},
   "outputs": [],
   "source": [
    "total_images_cnt = train_labels.shape[0]"
   ]
  },
  {
   "cell_type": "code",
   "execution_count": 26,
   "metadata": {},
   "outputs": [
    {
     "data": {
      "text/plain": [
       "Diagnosis\n",
       "any                  97103\n",
       "epidural              2761\n",
       "intraparenchymal     32564\n",
       "intraventricular     23766\n",
       "subarachnoid         32122\n",
       "subdural             42496\n",
       "nothing             577155\n",
       "dtype: int64"
      ]
     },
     "execution_count": 26,
     "metadata": {},
     "output_type": "execute_result"
    }
   ],
   "source": [
    "train_diag_cnt[\"nothing\"] = total_images_cnt - train_diag_cnt[\"any\"]\n",
    "train_diag_cnt"
   ]
  },
  {
   "cell_type": "code",
   "execution_count": 59,
   "metadata": {},
   "outputs": [
    {
     "data": {
      "text/plain": [
       "<BarContainer object of 7 artists>"
      ]
     },
     "execution_count": 59,
     "metadata": {},
     "output_type": "execute_result"
    },
    {
     "data": {
      "image/png": "[encoded data removed]",
      "text/plain": [
       "<Figure size 432x288 with 1 Axes>"
      ]
     },
     "metadata": {
      "needs_background": "light"
     },
     "output_type": "display_data"
    }
   ],
   "source": [
    "plt.bar(train_diag_cnt.index, train_diag_cnt.values)"
   ]
  },
  {
   "cell_type": "code",
   "execution_count": 36,
   "metadata": {},
   "outputs": [
    {
     "data": {
      "text/plain": [
       "([<matplotlib.patches.Wedge at 0x14b2d34de08>,\n",
       "  <matplotlib.patches.Wedge at 0x14b2d354e48>],\n",
       " [Text(0.9893237035659024, 0.4808727581831255, 'any'),\n",
       "  Text(-0.9893236810546229, -0.4808728044967098, 'nothing')],\n",
       " [Text(0.5396311110359466, 0.26229423173625027, '14.4%'),\n",
       "  Text(-0.5396310987570669, -0.2622942569982053, '85.6%')])"
      ]
     },
     "execution_count": 36,
     "metadata": {},
     "output_type": "execute_result"
    },
    {
     "data": {
      "image/png": "[encoded data removed]",
      "text/plain": [
       "<Figure size 432x288 with 1 Axes>"
      ]
     },
     "metadata": {},
     "output_type": "display_data"
    }
   ],
   "source": [
    "plt.pie(train_diag_cnt[['any', 'nothing']].values, labels = train_diag_cnt[['any', 'nothing']].index , autopct='%0.1f%%')"
   ]
  },
  {
   "cell_type": "code",
   "execution_count": 37,
   "metadata": {},
   "outputs": [
    {
     "data": {
      "text/plain": [
       "<BarContainer object of 6 artists>"
      ]
     },
     "execution_count": 37,
     "metadata": {},
     "output_type": "execute_result"
    },
    {
     "data": {
      "image/png": "[encoded data removed]",
      "text/plain": [
       "<Figure size 432x288 with 1 Axes>"
      ]
     },
     "metadata": {
      "needs_background": "light"
     },
     "output_type": "display_data"
    }
   ],
   "source": [
    "plt.bar(train_diag_cnt.index[:-1], train_diag_cnt.values[:-1])"
   ]
  },
  {
   "cell_type": "code",
   "execution_count": 60,
   "metadata": {},
   "outputs": [
    {
     "data": {
      "text/plain": [
       "<BarContainer object of 5 artists>"
      ]
     },
     "execution_count": 60,
     "metadata": {},
     "output_type": "execute_result"
    },
    {
     "data": {
      "image/png": "[encoded data removed]",
      "text/plain": [
       "<Figure size 432x288 with 1 Axes>"
      ]
     },
     "metadata": {
      "needs_background": "light"
     },
     "output_type": "display_data"
    }
   ],
   "source": [
    "plt.bar(train_diag_cnt.index[1:-1], train_diag_cnt.values[1:-1])"
   ]
  },
  {
   "cell_type": "code",
   "execution_count": 61,
   "metadata": {},
   "outputs": [
    {
     "data": {
      "text/plain": [
       "([<matplotlib.patches.Wedge at 0x14b52962748>,\n",
       "  <matplotlib.patches.Wedge at 0x14b52962f88>,\n",
       "  <matplotlib.patches.Wedge at 0x14b5296d848>,\n",
       "  <matplotlib.patches.Wedge at 0x14b52976148>,\n",
       "  <matplotlib.patches.Wedge at 0x14b52976d08>],\n",
       " [Text(1.0976862219781875, 0.07130889200691236, 'epidural'),\n",
       "  Text(0.6881917153486619, 0.8581329517769765, 'intraparenchymal'),\n",
       "  Text(-0.663582197587537, 0.877301924678668, 'intraventricular'),\n",
       "  Text(-1.0174367835509002, -0.41811767659069266, 'subarachnoid'),\n",
       "  Text(0.595743313000813, -0.9247107142316541, 'subdural')],\n",
       " [Text(0.5987379392608295, 0.038895759276497646, '2.1%'),\n",
       "  Text(0.37537729928108826, 0.468072519151078, '24.4%'),\n",
       "  Text(-0.36195392595683834, 0.4785283225520007, '17.8%'),\n",
       "  Text(-0.5549655183004909, -0.22806418723128688, '24.0%'),\n",
       "  Text(0.32495089800044336, -0.5043876623081749, '31.8%')])"
      ]
     },
     "execution_count": 61,
     "metadata": {},
     "output_type": "execute_result"
    },
    {
     "data": {
      "image/png": "[encoded data removed]",
      "text/plain": [
       "<Figure size 432x288 with 1 Axes>"
      ]
     },
     "metadata": {},
     "output_type": "display_data"
    }
   ],
   "source": [
    "plt.pie(train_diag_cnt.values[1:-1], labels = train_diag_cnt.index[1:-1] , autopct='%0.1f%%')"
   ]
  },
  {
   "cell_type": "code",
   "execution_count": 63,
   "metadata": {},
   "outputs": [
    {
     "data": {
      "text/html": [
       "<div>\n",
       "<style scoped>\n",
       "    .dataframe tbody tr th:only-of-type {\n",
       "        vertical-align: middle;\n",
       "    }\n",
       "\n",
       "    .dataframe tbody tr th {\n",
       "        vertical-align: top;\n",
       "    }\n",
       "\n",
       "    .dataframe thead th {\n",
       "        text-align: right;\n",
       "    }\n",
       "</style>\n",
       "<table border=\"1\" class=\"dataframe\">\n",
       "  <thead>\n",
       "    <tr style=\"text-align: right;\">\n",
       "      <th></th>\n",
       "      <th>Image</th>\n",
       "      <th>BitsAllocated</th>\n",
       "      <th>BitsStored</th>\n",
       "      <th>Columns</th>\n",
       "      <th>HighBit</th>\n",
       "      <th>ImageOrientationPatient_0</th>\n",
       "      <th>ImageOrientationPatient_1</th>\n",
       "      <th>ImageOrientationPatient_2</th>\n",
       "      <th>ImageOrientationPatient_3</th>\n",
       "      <th>ImageOrientationPatient_4</th>\n",
       "      <th>...</th>\n",
       "      <th>RescaleIntercept</th>\n",
       "      <th>RescaleSlope</th>\n",
       "      <th>Rows</th>\n",
       "      <th>SOPInstanceUID</th>\n",
       "      <th>SamplesPerPixel</th>\n",
       "      <th>SeriesInstanceUID</th>\n",
       "      <th>StudyID</th>\n",
       "      <th>StudyInstanceUID</th>\n",
       "      <th>WindowCenter</th>\n",
       "      <th>WindowWidth</th>\n",
       "    </tr>\n",
       "  </thead>\n",
       "  <tbody>\n",
       "    <tr>\n",
       "      <td>0</td>\n",
       "      <td>ID_000039fa0</td>\n",
       "      <td>16</td>\n",
       "      <td>16</td>\n",
       "      <td>512</td>\n",
       "      <td>15</td>\n",
       "      <td>1.0</td>\n",
       "      <td>0.0</td>\n",
       "      <td>0.0</td>\n",
       "      <td>0.0</td>\n",
       "      <td>0.968148</td>\n",
       "      <td>...</td>\n",
       "      <td>-1024.0</td>\n",
       "      <td>1.0</td>\n",
       "      <td>512</td>\n",
       "      <td>ID_000039fa0</td>\n",
       "      <td>1</td>\n",
       "      <td>ID_5f8484c3e0</td>\n",
       "      <td>NaN</td>\n",
       "      <td>ID_134d398b61</td>\n",
       "      <td>30.0</td>\n",
       "      <td>80.0</td>\n",
       "    </tr>\n",
       "    <tr>\n",
       "      <td>1</td>\n",
       "      <td>ID_00005679d</td>\n",
       "      <td>16</td>\n",
       "      <td>16</td>\n",
       "      <td>512</td>\n",
       "      <td>15</td>\n",
       "      <td>1.0</td>\n",
       "      <td>0.0</td>\n",
       "      <td>0.0</td>\n",
       "      <td>0.0</td>\n",
       "      <td>1.000000</td>\n",
       "      <td>...</td>\n",
       "      <td>-1024.0</td>\n",
       "      <td>1.0</td>\n",
       "      <td>512</td>\n",
       "      <td>ID_00005679d</td>\n",
       "      <td>1</td>\n",
       "      <td>ID_203cd6ec46</td>\n",
       "      <td>NaN</td>\n",
       "      <td>ID_b5c26cda09</td>\n",
       "      <td>50.0</td>\n",
       "      <td>100.0</td>\n",
       "    </tr>\n",
       "    <tr>\n",
       "      <td>2</td>\n",
       "      <td>ID_00008ce3c</td>\n",
       "      <td>16</td>\n",
       "      <td>12</td>\n",
       "      <td>512</td>\n",
       "      <td>11</td>\n",
       "      <td>1.0</td>\n",
       "      <td>0.0</td>\n",
       "      <td>0.0</td>\n",
       "      <td>0.0</td>\n",
       "      <td>0.994522</td>\n",
       "      <td>...</td>\n",
       "      <td>-1024.0</td>\n",
       "      <td>1.0</td>\n",
       "      <td>512</td>\n",
       "      <td>ID_00008ce3c</td>\n",
       "      <td>1</td>\n",
       "      <td>ID_3780d48b28</td>\n",
       "      <td>NaN</td>\n",
       "      <td>ID_974735bf79</td>\n",
       "      <td>40.0</td>\n",
       "      <td>80.0</td>\n",
       "    </tr>\n",
       "    <tr>\n",
       "      <td>3</td>\n",
       "      <td>ID_0000950d7</td>\n",
       "      <td>16</td>\n",
       "      <td>16</td>\n",
       "      <td>512</td>\n",
       "      <td>15</td>\n",
       "      <td>1.0</td>\n",
       "      <td>0.0</td>\n",
       "      <td>0.0</td>\n",
       "      <td>0.0</td>\n",
       "      <td>1.000000</td>\n",
       "      <td>...</td>\n",
       "      <td>-1024.0</td>\n",
       "      <td>1.0</td>\n",
       "      <td>512</td>\n",
       "      <td>ID_0000950d7</td>\n",
       "      <td>1</td>\n",
       "      <td>ID_84296c3845</td>\n",
       "      <td>NaN</td>\n",
       "      <td>ID_8881b1c4b1</td>\n",
       "      <td>35.0</td>\n",
       "      <td>135.0</td>\n",
       "    </tr>\n",
       "    <tr>\n",
       "      <td>4</td>\n",
       "      <td>ID_0000aee4b</td>\n",
       "      <td>16</td>\n",
       "      <td>12</td>\n",
       "      <td>512</td>\n",
       "      <td>11</td>\n",
       "      <td>1.0</td>\n",
       "      <td>0.0</td>\n",
       "      <td>0.0</td>\n",
       "      <td>0.0</td>\n",
       "      <td>1.000000</td>\n",
       "      <td>...</td>\n",
       "      <td>-1024.0</td>\n",
       "      <td>1.0</td>\n",
       "      <td>512</td>\n",
       "      <td>ID_0000aee4b</td>\n",
       "      <td>1</td>\n",
       "      <td>ID_1e59488a44</td>\n",
       "      <td>NaN</td>\n",
       "      <td>ID_9aad90e421</td>\n",
       "      <td>36.0</td>\n",
       "      <td>80.0</td>\n",
       "    </tr>\n",
       "  </tbody>\n",
       "</table>\n",
       "<p>5 rows × 30 columns</p>\n",
       "</div>"
      ],
      "text/plain": [
       "          Image  BitsAllocated  BitsStored  Columns  HighBit  \\\n",
       "0  ID_000039fa0             16          16      512       15   \n",
       "1  ID_00005679d             16          16      512       15   \n",
       "2  ID_00008ce3c             16          12      512       11   \n",
       "3  ID_0000950d7             16          16      512       15   \n",
       "4  ID_0000aee4b             16          12      512       11   \n",
       "\n",
       "   ImageOrientationPatient_0  ImageOrientationPatient_1  \\\n",
       "0                        1.0                        0.0   \n",
       "1                        1.0                        0.0   \n",
       "2                        1.0                        0.0   \n",
       "3                        1.0                        0.0   \n",
       "4                        1.0                        0.0   \n",
       "\n",
       "   ImageOrientationPatient_2  ImageOrientationPatient_3  \\\n",
       "0                        0.0                        0.0   \n",
       "1                        0.0                        0.0   \n",
       "2                        0.0                        0.0   \n",
       "3                        0.0                        0.0   \n",
       "4                        0.0                        0.0   \n",
       "\n",
       "   ImageOrientationPatient_4  ...  RescaleIntercept  RescaleSlope  Rows  \\\n",
       "0                   0.968148  ...           -1024.0           1.0   512   \n",
       "1                   1.000000  ...           -1024.0           1.0   512   \n",
       "2                   0.994522  ...           -1024.0           1.0   512   \n",
       "3                   1.000000  ...           -1024.0           1.0   512   \n",
       "4                   1.000000  ...           -1024.0           1.0   512   \n",
       "\n",
       "   SOPInstanceUID SamplesPerPixel SeriesInstanceUID StudyID  StudyInstanceUID  \\\n",
       "0    ID_000039fa0               1     ID_5f8484c3e0     NaN     ID_134d398b61   \n",
       "1    ID_00005679d               1     ID_203cd6ec46     NaN     ID_b5c26cda09   \n",
       "2    ID_00008ce3c               1     ID_3780d48b28     NaN     ID_974735bf79   \n",
       "3    ID_0000950d7               1     ID_84296c3845     NaN     ID_8881b1c4b1   \n",
       "4    ID_0000aee4b               1     ID_1e59488a44     NaN     ID_9aad90e421   \n",
       "\n",
       "   WindowCenter  WindowWidth  \n",
       "0          30.0         80.0  \n",
       "1          50.0        100.0  \n",
       "2          40.0         80.0  \n",
       "3          35.0        135.0  \n",
       "4          36.0         80.0  \n",
       "\n",
       "[5 rows x 30 columns]"
      ]
     },
     "execution_count": 63,
     "metadata": {},
     "output_type": "execute_result"
    }
   ],
   "source": [
    "df = pd.read_csv(\"train_metadata.csv\")\n",
    "df.head()"
   ]
  },
  {
   "cell_type": "code",
   "execution_count": 64,
   "metadata": {},
   "outputs": [
    {
     "data": {
      "text/html": [
       "<div>\n",
       "<style scoped>\n",
       "    .dataframe tbody tr th:only-of-type {\n",
       "        vertical-align: middle;\n",
       "    }\n",
       "\n",
       "    .dataframe tbody tr th {\n",
       "        vertical-align: top;\n",
       "    }\n",
       "\n",
       "    .dataframe thead th {\n",
       "        text-align: right;\n",
       "    }\n",
       "</style>\n",
       "<table border=\"1\" class=\"dataframe\">\n",
       "  <thead>\n",
       "    <tr style=\"text-align: right;\">\n",
       "      <th></th>\n",
       "      <th>Image</th>\n",
       "      <th>StudyInstanceUID</th>\n",
       "    </tr>\n",
       "  </thead>\n",
       "  <tbody>\n",
       "    <tr>\n",
       "      <td>0</td>\n",
       "      <td>ID_000039fa0</td>\n",
       "      <td>ID_134d398b61</td>\n",
       "    </tr>\n",
       "    <tr>\n",
       "      <td>1</td>\n",
       "      <td>ID_00005679d</td>\n",
       "      <td>ID_b5c26cda09</td>\n",
       "    </tr>\n",
       "    <tr>\n",
       "      <td>2</td>\n",
       "      <td>ID_00008ce3c</td>\n",
       "      <td>ID_974735bf79</td>\n",
       "    </tr>\n",
       "    <tr>\n",
       "      <td>3</td>\n",
       "      <td>ID_0000950d7</td>\n",
       "      <td>ID_8881b1c4b1</td>\n",
       "    </tr>\n",
       "    <tr>\n",
       "      <td>4</td>\n",
       "      <td>ID_0000aee4b</td>\n",
       "      <td>ID_9aad90e421</td>\n",
       "    </tr>\n",
       "  </tbody>\n",
       "</table>\n",
       "</div>"
      ],
      "text/plain": [
       "          Image StudyInstanceUID\n",
       "0  ID_000039fa0    ID_134d398b61\n",
       "1  ID_00005679d    ID_b5c26cda09\n",
       "2  ID_00008ce3c    ID_974735bf79\n",
       "3  ID_0000950d7    ID_8881b1c4b1\n",
       "4  ID_0000aee4b    ID_9aad90e421"
      ]
     },
     "execution_count": 64,
     "metadata": {},
     "output_type": "execute_result"
    }
   ],
   "source": [
    "image_study = df[['Image', 'StudyInstanceUID']]\n",
    "image_study.head()"
   ]
  },
  {
   "cell_type": "code",
   "execution_count": 65,
   "metadata": {},
   "outputs": [
    {
     "data": {
      "text/html": [
       "<div>\n",
       "<style scoped>\n",
       "    .dataframe tbody tr th:only-of-type {\n",
       "        vertical-align: middle;\n",
       "    }\n",
       "\n",
       "    .dataframe tbody tr th {\n",
       "        vertical-align: top;\n",
       "    }\n",
       "\n",
       "    .dataframe thead th {\n",
       "        text-align: right;\n",
       "    }\n",
       "</style>\n",
       "<table border=\"1\" class=\"dataframe\">\n",
       "  <thead>\n",
       "    <tr style=\"text-align: right;\">\n",
       "      <th></th>\n",
       "      <th>Image</th>\n",
       "      <th>StudyInstanceUID</th>\n",
       "      <th>any</th>\n",
       "      <th>epidural</th>\n",
       "      <th>intraparenchymal</th>\n",
       "      <th>intraventricular</th>\n",
       "      <th>subarachnoid</th>\n",
       "      <th>subdural</th>\n",
       "    </tr>\n",
       "  </thead>\n",
       "  <tbody>\n",
       "    <tr>\n",
       "      <td>0</td>\n",
       "      <td>ID_000039fa0</td>\n",
       "      <td>ID_134d398b61</td>\n",
       "      <td>0</td>\n",
       "      <td>0</td>\n",
       "      <td>0</td>\n",
       "      <td>0</td>\n",
       "      <td>0</td>\n",
       "      <td>0</td>\n",
       "    </tr>\n",
       "    <tr>\n",
       "      <td>1</td>\n",
       "      <td>ID_00005679d</td>\n",
       "      <td>ID_b5c26cda09</td>\n",
       "      <td>0</td>\n",
       "      <td>0</td>\n",
       "      <td>0</td>\n",
       "      <td>0</td>\n",
       "      <td>0</td>\n",
       "      <td>0</td>\n",
       "    </tr>\n",
       "    <tr>\n",
       "      <td>2</td>\n",
       "      <td>ID_00008ce3c</td>\n",
       "      <td>ID_974735bf79</td>\n",
       "      <td>0</td>\n",
       "      <td>0</td>\n",
       "      <td>0</td>\n",
       "      <td>0</td>\n",
       "      <td>0</td>\n",
       "      <td>0</td>\n",
       "    </tr>\n",
       "    <tr>\n",
       "      <td>3</td>\n",
       "      <td>ID_0000950d7</td>\n",
       "      <td>ID_8881b1c4b1</td>\n",
       "      <td>0</td>\n",
       "      <td>0</td>\n",
       "      <td>0</td>\n",
       "      <td>0</td>\n",
       "      <td>0</td>\n",
       "      <td>0</td>\n",
       "    </tr>\n",
       "    <tr>\n",
       "      <td>4</td>\n",
       "      <td>ID_0000aee4b</td>\n",
       "      <td>ID_9aad90e421</td>\n",
       "      <td>0</td>\n",
       "      <td>0</td>\n",
       "      <td>0</td>\n",
       "      <td>0</td>\n",
       "      <td>0</td>\n",
       "      <td>0</td>\n",
       "    </tr>\n",
       "  </tbody>\n",
       "</table>\n",
       "</div>"
      ],
      "text/plain": [
       "          Image StudyInstanceUID  any  epidural  intraparenchymal  \\\n",
       "0  ID_000039fa0    ID_134d398b61    0         0                 0   \n",
       "1  ID_00005679d    ID_b5c26cda09    0         0                 0   \n",
       "2  ID_00008ce3c    ID_974735bf79    0         0                 0   \n",
       "3  ID_0000950d7    ID_8881b1c4b1    0         0                 0   \n",
       "4  ID_0000aee4b    ID_9aad90e421    0         0                 0   \n",
       "\n",
       "   intraventricular  subarachnoid  subdural  \n",
       "0                 0             0         0  \n",
       "1                 0             0         0  \n",
       "2                 0             0         0  \n",
       "3                 0             0         0  \n",
       "4                 0             0         0  "
      ]
     },
     "execution_count": 65,
     "metadata": {},
     "output_type": "execute_result"
    }
   ],
   "source": [
    "label2 = pd.merge(image_study, train_labels, on = 'Image')\n",
    "label2.head()"
   ]
  },
  {
   "cell_type": "code",
   "execution_count": 66,
   "metadata": {},
   "outputs": [
    {
     "data": {
      "text/plain": [
       "(674258, 8)"
      ]
     },
     "execution_count": 66,
     "metadata": {},
     "output_type": "execute_result"
    }
   ],
   "source": [
    "label2.shape"
   ]
  },
  {
   "cell_type": "code",
   "execution_count": 81,
   "metadata": {},
   "outputs": [
    {
     "name": "stdout",
     "output_type": "stream",
     "text": [
      "(2761, 1)\n"
     ]
    },
    {
     "data": {
      "text/html": [
       "<div>\n",
       "<style scoped>\n",
       "    .dataframe tbody tr th:only-of-type {\n",
       "        vertical-align: middle;\n",
       "    }\n",
       "\n",
       "    .dataframe tbody tr th {\n",
       "        vertical-align: top;\n",
       "    }\n",
       "\n",
       "    .dataframe thead th {\n",
       "        text-align: right;\n",
       "    }\n",
       "</style>\n",
       "<table border=\"1\" class=\"dataframe\">\n",
       "  <thead>\n",
       "    <tr style=\"text-align: right;\">\n",
       "      <th></th>\n",
       "      <th>path</th>\n",
       "    </tr>\n",
       "  </thead>\n",
       "  <tbody>\n",
       "    <tr>\n",
       "      <td>237</td>\n",
       "      <td>ID_ae19417cc9/ID_00178eb80.png</td>\n",
       "    </tr>\n",
       "    <tr>\n",
       "      <td>280</td>\n",
       "      <td>ID_2277a44c5b/ID_001bb2c00.png</td>\n",
       "    </tr>\n",
       "    <tr>\n",
       "      <td>392</td>\n",
       "      <td>ID_7ce7574769/ID_0026de01c.png</td>\n",
       "    </tr>\n",
       "    <tr>\n",
       "      <td>733</td>\n",
       "      <td>ID_da3069ae8c/ID_004966e2d.png</td>\n",
       "    </tr>\n",
       "    <tr>\n",
       "      <td>766</td>\n",
       "      <td>ID_47d087d9c2/ID_004c4b319.png</td>\n",
       "    </tr>\n",
       "  </tbody>\n",
       "</table>\n",
       "</div>"
      ],
      "text/plain": [
       "                               path\n",
       "237  ID_ae19417cc9/ID_00178eb80.png\n",
       "280  ID_2277a44c5b/ID_001bb2c00.png\n",
       "392  ID_7ce7574769/ID_0026de01c.png\n",
       "733  ID_da3069ae8c/ID_004966e2d.png\n",
       "766  ID_47d087d9c2/ID_004c4b319.png"
      ]
     },
     "execution_count": 81,
     "metadata": {},
     "output_type": "execute_result"
    }
   ],
   "source": [
    "tmp = label2[label2['epidural'] == 1][['Image', 'StudyInstanceUID']]\n",
    "epidurals = pd.DataFrame()\n",
    "epidurals['path'] = tmp['StudyInstanceUID'] + '/' + tmp['Image'] + '.png'\n",
    "epidurals.to_csv(\"epidurals.csv\")\n",
    "print(epidurals.shape)\n",
    "epidurals.head()"
   ]
  },
  {
   "cell_type": "code",
   "execution_count": 82,
   "metadata": {},
   "outputs": [
    {
     "name": "stdout",
     "output_type": "stream",
     "text": [
      "(32564, 1)\n"
     ]
    },
    {
     "data": {
      "text/html": [
       "<div>\n",
       "<style scoped>\n",
       "    .dataframe tbody tr th:only-of-type {\n",
       "        vertical-align: middle;\n",
       "    }\n",
       "\n",
       "    .dataframe tbody tr th {\n",
       "        vertical-align: top;\n",
       "    }\n",
       "\n",
       "    .dataframe thead th {\n",
       "        text-align: right;\n",
       "    }\n",
       "</style>\n",
       "<table border=\"1\" class=\"dataframe\">\n",
       "  <thead>\n",
       "    <tr style=\"text-align: right;\">\n",
       "      <th></th>\n",
       "      <th>path</th>\n",
       "    </tr>\n",
       "  </thead>\n",
       "  <tbody>\n",
       "    <tr>\n",
       "      <td>12</td>\n",
       "      <td>ID_b026766696/ID_0002081b6.png</td>\n",
       "    </tr>\n",
       "    <tr>\n",
       "      <td>75</td>\n",
       "      <td>ID_6ab681c35f/ID_00083d407.png</td>\n",
       "    </tr>\n",
       "    <tr>\n",
       "      <td>86</td>\n",
       "      <td>ID_d303deb5fc/ID_00094b19b.png</td>\n",
       "    </tr>\n",
       "    <tr>\n",
       "      <td>92</td>\n",
       "      <td>ID_406ffd81bc/ID_0009e5f5e.png</td>\n",
       "    </tr>\n",
       "    <tr>\n",
       "      <td>130</td>\n",
       "      <td>ID_f452d76997/ID_000d69988.png</td>\n",
       "    </tr>\n",
       "  </tbody>\n",
       "</table>\n",
       "</div>"
      ],
      "text/plain": [
       "                               path\n",
       "12   ID_b026766696/ID_0002081b6.png\n",
       "75   ID_6ab681c35f/ID_00083d407.png\n",
       "86   ID_d303deb5fc/ID_00094b19b.png\n",
       "92   ID_406ffd81bc/ID_0009e5f5e.png\n",
       "130  ID_f452d76997/ID_000d69988.png"
      ]
     },
     "execution_count": 82,
     "metadata": {},
     "output_type": "execute_result"
    }
   ],
   "source": [
    "tmp = label2[label2['intraparenchymal'] == 1][['Image', 'StudyInstanceUID']]\n",
    "intraparenchymals = pd.DataFrame()\n",
    "intraparenchymals['path'] = tmp['StudyInstanceUID'] + '/' + tmp['Image'] + '.png'\n",
    "intraparenchymals.to_csv(\"intraparenchymals.csv\")\n",
    "print(intraparenchymals.shape)\n",
    "intraparenchymals.head()"
   ]
  },
  {
   "cell_type": "code",
   "execution_count": 83,
   "metadata": {},
   "outputs": [
    {
     "name": "stdout",
     "output_type": "stream",
     "text": [
      "(23766, 1)\n"
     ]
    },
    {
     "data": {
      "text/html": [
       "<div>\n",
       "<style scoped>\n",
       "    .dataframe tbody tr th:only-of-type {\n",
       "        vertical-align: middle;\n",
       "    }\n",
       "\n",
       "    .dataframe tbody tr th {\n",
       "        vertical-align: top;\n",
       "    }\n",
       "\n",
       "    .dataframe thead th {\n",
       "        text-align: right;\n",
       "    }\n",
       "</style>\n",
       "<table border=\"1\" class=\"dataframe\">\n",
       "  <thead>\n",
       "    <tr style=\"text-align: right;\">\n",
       "      <th></th>\n",
       "      <th>path</th>\n",
       "    </tr>\n",
       "  </thead>\n",
       "  <tbody>\n",
       "    <tr>\n",
       "      <td>31</td>\n",
       "      <td>ID_050fb6fd74/ID_00042829c.png</td>\n",
       "    </tr>\n",
       "    <tr>\n",
       "      <td>47</td>\n",
       "      <td>ID_a7908d3bb7/ID_0005d340e.png</td>\n",
       "    </tr>\n",
       "    <tr>\n",
       "      <td>91</td>\n",
       "      <td>ID_f935a12158/ID_0009db386.png</td>\n",
       "    </tr>\n",
       "    <tr>\n",
       "      <td>172</td>\n",
       "      <td>ID_195a240531/ID_0011f02f5.png</td>\n",
       "    </tr>\n",
       "    <tr>\n",
       "      <td>174</td>\n",
       "      <td>ID_f6adeacda4/ID_001212532.png</td>\n",
       "    </tr>\n",
       "  </tbody>\n",
       "</table>\n",
       "</div>"
      ],
      "text/plain": [
       "                               path\n",
       "31   ID_050fb6fd74/ID_00042829c.png\n",
       "47   ID_a7908d3bb7/ID_0005d340e.png\n",
       "91   ID_f935a12158/ID_0009db386.png\n",
       "172  ID_195a240531/ID_0011f02f5.png\n",
       "174  ID_f6adeacda4/ID_001212532.png"
      ]
     },
     "execution_count": 83,
     "metadata": {},
     "output_type": "execute_result"
    }
   ],
   "source": [
    "tmp = label2[label2['intraventricular'] == 1][['Image', 'StudyInstanceUID']]\n",
    "intraventriculars = pd.DataFrame()\n",
    "intraventriculars['path'] = tmp['StudyInstanceUID'] + '/' + tmp['Image'] + '.png'\n",
    "intraventriculars.to_csv(\"intraventriculars.csv\")\n",
    "print(intraventriculars.shape)\n",
    "intraventriculars.head()"
   ]
  },
  {
   "cell_type": "code",
   "execution_count": 84,
   "metadata": {},
   "outputs": [
    {
     "name": "stdout",
     "output_type": "stream",
     "text": [
      "(32122, 1)\n"
     ]
    },
    {
     "data": {
      "text/html": [
       "<div>\n",
       "<style scoped>\n",
       "    .dataframe tbody tr th:only-of-type {\n",
       "        vertical-align: middle;\n",
       "    }\n",
       "\n",
       "    .dataframe tbody tr th {\n",
       "        vertical-align: top;\n",
       "    }\n",
       "\n",
       "    .dataframe thead th {\n",
       "        text-align: right;\n",
       "    }\n",
       "</style>\n",
       "<table border=\"1\" class=\"dataframe\">\n",
       "  <thead>\n",
       "    <tr style=\"text-align: right;\">\n",
       "      <th></th>\n",
       "      <th>path</th>\n",
       "    </tr>\n",
       "  </thead>\n",
       "  <tbody>\n",
       "    <tr>\n",
       "      <td>21</td>\n",
       "      <td>ID_74f2e4ee2b/ID_0002a38ad.png</td>\n",
       "    </tr>\n",
       "    <tr>\n",
       "      <td>43</td>\n",
       "      <td>ID_8c4d387064/ID_00058bb06.png</td>\n",
       "    </tr>\n",
       "    <tr>\n",
       "      <td>47</td>\n",
       "      <td>ID_a7908d3bb7/ID_0005d340e.png</td>\n",
       "    </tr>\n",
       "    <tr>\n",
       "      <td>81</td>\n",
       "      <td>ID_5b40dcf014/ID_0008d8433.png</td>\n",
       "    </tr>\n",
       "    <tr>\n",
       "      <td>86</td>\n",
       "      <td>ID_d303deb5fc/ID_00094b19b.png</td>\n",
       "    </tr>\n",
       "  </tbody>\n",
       "</table>\n",
       "</div>"
      ],
      "text/plain": [
       "                              path\n",
       "21  ID_74f2e4ee2b/ID_0002a38ad.png\n",
       "43  ID_8c4d387064/ID_00058bb06.png\n",
       "47  ID_a7908d3bb7/ID_0005d340e.png\n",
       "81  ID_5b40dcf014/ID_0008d8433.png\n",
       "86  ID_d303deb5fc/ID_00094b19b.png"
      ]
     },
     "execution_count": 84,
     "metadata": {},
     "output_type": "execute_result"
    }
   ],
   "source": [
    "tmp = label2[label2['subarachnoid'] == 1][['Image', 'StudyInstanceUID']]\n",
    "subarachnoids = pd.DataFrame()\n",
    "subarachnoids['path'] = tmp['StudyInstanceUID'] + '/' + tmp['Image'] + '.png'\n",
    "subarachnoids.to_csv(\"subarachnoids.csv\")\n",
    "print(subarachnoids.shape)\n",
    "subarachnoids.head()"
   ]
  },
  {
   "cell_type": "code",
   "execution_count": 85,
   "metadata": {},
   "outputs": [
    {
     "name": "stdout",
     "output_type": "stream",
     "text": [
      "(42496, 1)\n"
     ]
    },
    {
     "data": {
      "text/html": [
       "<div>\n",
       "<style scoped>\n",
       "    .dataframe tbody tr th:only-of-type {\n",
       "        vertical-align: middle;\n",
       "    }\n",
       "\n",
       "    .dataframe tbody tr th {\n",
       "        vertical-align: top;\n",
       "    }\n",
       "\n",
       "    .dataframe thead th {\n",
       "        text-align: right;\n",
       "    }\n",
       "</style>\n",
       "<table border=\"1\" class=\"dataframe\">\n",
       "  <thead>\n",
       "    <tr style=\"text-align: right;\">\n",
       "      <th></th>\n",
       "      <th>path</th>\n",
       "    </tr>\n",
       "  </thead>\n",
       "  <tbody>\n",
       "    <tr>\n",
       "      <td>21</td>\n",
       "      <td>ID_74f2e4ee2b/ID_0002a38ad.png</td>\n",
       "    </tr>\n",
       "    <tr>\n",
       "      <td>28</td>\n",
       "      <td>ID_ab4ab2bb1d/ID_000346ce2.png</td>\n",
       "    </tr>\n",
       "    <tr>\n",
       "      <td>37</td>\n",
       "      <td>ID_877f6529e9/ID_0004a5701.png</td>\n",
       "    </tr>\n",
       "    <tr>\n",
       "      <td>65</td>\n",
       "      <td>ID_796b0d5cfe/ID_000744022.png</td>\n",
       "    </tr>\n",
       "    <tr>\n",
       "      <td>71</td>\n",
       "      <td>ID_4ae3f29d01/ID_0007b8af4.png</td>\n",
       "    </tr>\n",
       "  </tbody>\n",
       "</table>\n",
       "</div>"
      ],
      "text/plain": [
       "                              path\n",
       "21  ID_74f2e4ee2b/ID_0002a38ad.png\n",
       "28  ID_ab4ab2bb1d/ID_000346ce2.png\n",
       "37  ID_877f6529e9/ID_0004a5701.png\n",
       "65  ID_796b0d5cfe/ID_000744022.png\n",
       "71  ID_4ae3f29d01/ID_0007b8af4.png"
      ]
     },
     "execution_count": 85,
     "metadata": {},
     "output_type": "execute_result"
    }
   ],
   "source": [
    "tmp = label2[label2['subdural'] == 1][['Image', 'StudyInstanceUID']]\n",
    "subdurals = pd.DataFrame()\n",
    "subdurals['path'] = tmp['StudyInstanceUID'] + '/' + tmp['Image'] + '.png'\n",
    "subdurals.to_csv(\"subdurals.csv\")\n",
    "print(subdurals.shape)\n",
    "subdurals.head()"
   ]
  },
  {
   "cell_type": "code",
   "execution_count": 86,
   "metadata": {},
   "outputs": [
    {
     "name": "stdout",
     "output_type": "stream",
     "text": [
      "(97103, 1)\n"
     ]
    },
    {
     "data": {
      "text/html": [
       "<div>\n",
       "<style scoped>\n",
       "    .dataframe tbody tr th:only-of-type {\n",
       "        vertical-align: middle;\n",
       "    }\n",
       "\n",
       "    .dataframe tbody tr th {\n",
       "        vertical-align: top;\n",
       "    }\n",
       "\n",
       "    .dataframe thead th {\n",
       "        text-align: right;\n",
       "    }\n",
       "</style>\n",
       "<table border=\"1\" class=\"dataframe\">\n",
       "  <thead>\n",
       "    <tr style=\"text-align: right;\">\n",
       "      <th></th>\n",
       "      <th>path</th>\n",
       "    </tr>\n",
       "  </thead>\n",
       "  <tbody>\n",
       "    <tr>\n",
       "      <td>12</td>\n",
       "      <td>ID_b026766696/ID_0002081b6.png</td>\n",
       "    </tr>\n",
       "    <tr>\n",
       "      <td>21</td>\n",
       "      <td>ID_74f2e4ee2b/ID_0002a38ad.png</td>\n",
       "    </tr>\n",
       "    <tr>\n",
       "      <td>28</td>\n",
       "      <td>ID_ab4ab2bb1d/ID_000346ce2.png</td>\n",
       "    </tr>\n",
       "    <tr>\n",
       "      <td>31</td>\n",
       "      <td>ID_050fb6fd74/ID_00042829c.png</td>\n",
       "    </tr>\n",
       "    <tr>\n",
       "      <td>37</td>\n",
       "      <td>ID_877f6529e9/ID_0004a5701.png</td>\n",
       "    </tr>\n",
       "  </tbody>\n",
       "</table>\n",
       "</div>"
      ],
      "text/plain": [
       "                              path\n",
       "12  ID_b026766696/ID_0002081b6.png\n",
       "21  ID_74f2e4ee2b/ID_0002a38ad.png\n",
       "28  ID_ab4ab2bb1d/ID_000346ce2.png\n",
       "31  ID_050fb6fd74/ID_00042829c.png\n",
       "37  ID_877f6529e9/ID_0004a5701.png"
      ]
     },
     "execution_count": 86,
     "metadata": {},
     "output_type": "execute_result"
    }
   ],
   "source": [
    "tmp = label2[label2['any'] == 1][['Image', 'StudyInstanceUID']]\n",
    "anys = pd.DataFrame()\n",
    "anys['path'] = tmp['StudyInstanceUID'] + '/' + tmp['Image'] + '.png'\n",
    "anys.to_csv(\"anys.csv\")\n",
    "print(anys.shape)\n",
    "anys.head()"
   ]
  },
  {
   "cell_type": "code",
   "execution_count": 87,
   "metadata": {},
   "outputs": [
    {
     "name": "stdout",
     "output_type": "stream",
     "text": [
      "(577155, 1)\n"
     ]
    },
    {
     "data": {
      "text/html": [
       "<div>\n",
       "<style scoped>\n",
       "    .dataframe tbody tr th:only-of-type {\n",
       "        vertical-align: middle;\n",
       "    }\n",
       "\n",
       "    .dataframe tbody tr th {\n",
       "        vertical-align: top;\n",
       "    }\n",
       "\n",
       "    .dataframe thead th {\n",
       "        text-align: right;\n",
       "    }\n",
       "</style>\n",
       "<table border=\"1\" class=\"dataframe\">\n",
       "  <thead>\n",
       "    <tr style=\"text-align: right;\">\n",
       "      <th></th>\n",
       "      <th>path</th>\n",
       "    </tr>\n",
       "  </thead>\n",
       "  <tbody>\n",
       "    <tr>\n",
       "      <td>0</td>\n",
       "      <td>ID_134d398b61/ID_000039fa0.png</td>\n",
       "    </tr>\n",
       "    <tr>\n",
       "      <td>1</td>\n",
       "      <td>ID_b5c26cda09/ID_00005679d.png</td>\n",
       "    </tr>\n",
       "    <tr>\n",
       "      <td>2</td>\n",
       "      <td>ID_974735bf79/ID_00008ce3c.png</td>\n",
       "    </tr>\n",
       "    <tr>\n",
       "      <td>3</td>\n",
       "      <td>ID_8881b1c4b1/ID_0000950d7.png</td>\n",
       "    </tr>\n",
       "    <tr>\n",
       "      <td>4</td>\n",
       "      <td>ID_9aad90e421/ID_0000aee4b.png</td>\n",
       "    </tr>\n",
       "  </tbody>\n",
       "</table>\n",
       "</div>"
      ],
      "text/plain": [
       "                             path\n",
       "0  ID_134d398b61/ID_000039fa0.png\n",
       "1  ID_b5c26cda09/ID_00005679d.png\n",
       "2  ID_974735bf79/ID_00008ce3c.png\n",
       "3  ID_8881b1c4b1/ID_0000950d7.png\n",
       "4  ID_9aad90e421/ID_0000aee4b.png"
      ]
     },
     "execution_count": 87,
     "metadata": {},
     "output_type": "execute_result"
    }
   ],
   "source": [
    "tmp = label2[label2['any'] == 0][['Image', 'StudyInstanceUID']]\n",
    "nothings = pd.DataFrame()\n",
    "nothings['path'] = tmp['StudyInstanceUID'] + '/' + tmp['Image'] + '.png'\n",
    "nothings.to_csv(\"nothings.csv\")\n",
    "print(nothings.shape)\n",
    "nothings.head()"
   ]
  },
  {
   "cell_type": "code",
   "execution_count": null,
   "metadata": {},
   "outputs": [],
   "source": []
  }
 ],
 "metadata": {
  "kernelspec": {
   "display_name": "Python 3",
   "language": "python",
   "name": "python3"
  },
  "language_info": {
   "codemirror_mode": {
    "name": "ipython",
    "version": 3
   },
   "file_extension": ".py",
   "mimetype": "text/x-python",
   "name": "python",
   "nbconvert_exporter": "python",
   "pygments_lexer": "ipython3",
   "version": "3.7.4"
  }
 },
 "nbformat": 4,
 "nbformat_minor": 2
}
